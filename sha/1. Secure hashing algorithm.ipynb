{
 "cells": [
  {
   "attachments": {},
   "cell_type": "markdown",
   "metadata": {},
   "source": [
    "# Secure hashing algorithm example\n",
    "_Author: Maurice Snoeren_\n",
    "\n",
    "Secure hashes are used to create a fixed length fingerprint of data in order to provide integrity of the data. The reciever of the data gets its hash as well. When the hash is recalculated and the received hash is the same, the receiver knows the data is not changed during transit. At the moment, the hashes are different, the receiver knows that the data has been changed. Unfortunately, we do not know what have been changed. So, we need to discard the total message!\n",
    "\n",
    "<img src=\"images/sha.png\" width=\"500px\"/>\n",
    "\n",
    "The secure hash function has the follow characteristics:\n",
    "1. The output of the hash $h(x)$ of the same message $x$ is  always is the same\n",
    "2. Fast to calculate the secure hash $y$ of a message $x$ \n",
    "3. Small changes in $x$ result in totally different hash $h(x)$\n",
    "4. Not possible to calculate $x$ having $y$ => Avoid collisions; it must be very difficult to find a meaningfull $x_1 \\neq x_2$, where $h(x_1) = h(x_2)$"
   ]
  },
  {
   "cell_type": "markdown",
   "metadata": {},
   "source": [
    "Within this notebook, we would like to give an example how secure hashes work. Within Python, we will use the library hashlib. So, we can import this library to use the secure hashing functions."
   ]
  },
  {
   "cell_type": "code",
   "execution_count": 2,
   "metadata": {},
   "outputs": [],
   "source": [
    "import hashlib"
   ]
  },
  {
   "cell_type": "code",
   "execution_count": 3,
   "metadata": {},
   "outputs": [
    {
     "name": "stdout",
     "output_type": "stream",
     "text": [
      "Maurice Snoeren heeft je een 10 gegeven voor de Bitcoin toets op 2 november 2020!\n"
     ]
    }
   ],
   "source": [
    "data = \"Maurice Snoeren heeft je een 10 gegeven voor de Bitcoin toets op 2 november 2020!\"\n",
    "print(data);"
   ]
  },
  {
   "cell_type": "code",
   "execution_count": 11,
   "metadata": {},
   "outputs": [
    {
     "name": "stdout",
     "output_type": "stream",
     "text": [
      "87f001d78cdd3a4af90a04d6f1d5a332f73675a9eacd7eb10c75bdbdbcc9e46f\n"
     ]
    }
   ],
   "source": [
    "sha_1 = hashlib.sha256(data.encode()).hexdigest()\n",
    "print(sha_1)"
   ]
  },
  {
   "cell_type": "markdown",
   "metadata": {},
   "source": [
    "We will change the data now!"
   ]
  },
  {
   "cell_type": "code",
   "execution_count": 14,
   "metadata": {},
   "outputs": [
    {
     "name": "stdout",
     "output_type": "stream",
     "text": [
      "Maurice Snoeren heeft je een 10 gegeven voor de Bitcoin toets op 2 november 2020!\n",
      "87f001d78cdd3a4af90a04d6f1d5a332f73675a9eacd7eb10c75bdbdbcc9e46f\n",
      "87f001d78cdd3a4af90a04d6f1d5a332f73675a9eacd7eb10c75bdbdbcc9e46f\n",
      "Your message is not changed!\n"
     ]
    }
   ],
   "source": [
    "data = \"Maurice Snoeren heeft je een 1 gegeven voor de Bitcoin toets op 2 november 2020!\"\n",
    "sha_2 = hashlib.sha256(data.encode()).hexdigest()\n",
    "print(data)\n",
    "print(sha_2)\n",
    "print(sha_1)\n",
    "\n",
    "if sha_1 == sha_2:\n",
    "    print(\"Your message is not changed!\")\n",
    "else:\n",
    "    print(\"Your message has been changed!\")\n",
    "    "
   ]
  },
  {
   "cell_type": "markdown",
   "metadata": {},
   "source": [
    "The secure hash code is very different when only one character was changed. When the data was not changed, you will see that the secure hase code is the same!"
   ]
  },
  {
   "cell_type": "code",
   "execution_count": 15,
   "metadata": {},
   "outputs": [
    {
     "name": "stdout",
     "output_type": "stream",
     "text": [
      "Maurice Snoeren heeft je een 10 gegeven voor de Bitcoin toets op 2 november 2020!\n",
      "87f001d78cdd3a4af90a04d6f1d5a332f73675a9eacd7eb10c75bdbdbcc9e46f\n",
      "87f001d78cdd3a4af90a04d6f1d5a332f73675a9eacd7eb10c75bdbdbcc9e46f\n",
      "Your message is not changed!\n"
     ]
    }
   ],
   "source": [
    "data = \"Maurice Snoeren heeft je een 10 gegeven voor de Bitcoin toets op 2 november 2020!\"\n",
    "sha_2 = hashlib.sha256(data.encode()).hexdigest()\n",
    "print(data)\n",
    "print(sha_2)\n",
    "print(sha_1)\n",
    "\n",
    "if sha_1 == sha_2:\n",
    "    print(\"Your message is not changed!\")\n",
    "else:\n",
    "    print(\"Your message has been changed!\")"
   ]
  },
  {
   "cell_type": "markdown",
   "metadata": {},
   "source": [
    "## Conclusion\n",
    "Using secure hash algorithms you are able to provide data integrity and check whether the data is changed during transit. Within blockchain, the secure hashes are used to easily see whether the blocks has been changed. The blocks have been built with trust, so when the secure hashes are correct, we can still trust the blockchain!"
   ]
  },
  {
   "cell_type": "code",
   "execution_count": null,
   "metadata": {},
   "outputs": [],
   "source": []
  }
 ],
 "metadata": {
  "kernelspec": {
   "display_name": "Python 3",
   "language": "python",
   "name": "python3"
  },
  "language_info": {
   "codemirror_mode": {
    "name": "ipython",
    "version": 3
   },
   "file_extension": ".py",
   "mimetype": "text/x-python",
   "name": "python",
   "nbconvert_exporter": "python",
   "pygments_lexer": "ipython3",
   "version": "3.8.3"
  }
 },
 "nbformat": 4,
 "nbformat_minor": 4
}

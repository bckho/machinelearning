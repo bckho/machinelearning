{
 "cells": [
  {
   "cell_type": "markdown",
   "metadata": {},
   "source": [
    "# ML 2 Artificial Neural Networks - Workshop 3\n",
    "__Minor AI: Part of workshop 3 (ML2-3)__\n",
    "\n",
    "_Author: Maurice Snoeren_\n",
    "\n",
    "This workshop 3 is part of pressure cooker 2 Artificial Neural Networks (ANN). During this workshop the theory of back-propagation and activation functions are discussed. The goal is to understand the back-propagation algorithm and recognize the underlying mathematics. After this workshop \n",
    "- you are able to implement a artificial neural network from scratch,\n",
    "- you are able to implement back-propagation from scratch,\n",
    "- you are able to understand how Tensorflow and Keras implements back-propagation,\n",
    "- you are able to train a simple network using back-propagation and\n",
    "- the differences between the activation functions.\n",
    "\n",
    "For this workshop a general learning goal has been defined: The student test the trained artificial neural network, such  that the student is able to define the reliability of the ANN solution."
   ]
  },
  {
   "cell_type": "markdown",
   "metadata": {},
   "source": [
    "## Subjects\n",
    "- Back-propagation\n",
    "- Activation functions"
   ]
  },
  {
   "cell_type": "markdown",
   "metadata": {},
   "source": [
    "## Learning goals\n",
    "- Understand how back-propagation works.\n",
    "- Understand how to implement back-propagation.\n",
    "- Differences between the known activitation functions.\n",
    "- Back-propagation in existing frameworks (e.g. Keras and Tensorflow).\n",
    "- Get experience with the learning of an ANN with a given data set."
   ]
  },
  {
   "cell_type": "markdown",
   "metadata": {},
   "source": [
    "## Before we dive into the theory!\n",
    "Before we dive into the theory of back-propagation, we will give a short summary of artificial neural networks. First, to refresh your memory. Second, to have a good starting point to build up the theory.\n",
    "\n",
    "### Artificial Neural Networks\n",
    "Artificial neural networks has been based on the working of our brains. Whether an artificial neural network is working like our brain should be under discusison. We really do not know! You can find it out yourself. Anyway, generally it is seen that our brain is learning capability is much better as seen with artificial learning. So, we are efficient learners :).\n",
    "\n",
    "### Perceptron: The Artificial Neuron\n",
    "A single neuron has different inputs $x_i$, for each input a weight $w_i$ and a bias $b$. The output $y$ (in the figure $a$) is the output of the activation function of the neuron $\\sigma$ that takes the summation of the input with their weights plus the bias as input.  \n",
    "\n",
    "\\begin{equation}\n",
    "z = \\sum_{i=1}^n(x_i*w_i) + b \\\\\n",
    "y = \\sigma(z)\n",
    "\\end{equation}\n",
    "\n",
    "![picture](https://pythonmachinelearning.pro/wp-content/uploads/2017/09/Single-Perceptron-768x427.png.webp)\n",
    "_source: https://pythonmachinelearning.pro/wp-content/uploads/2017/09/Single-Perceptron-768x427.png.webp_\n",
    "\n",
    "The main difference between linear regression and the neuron, is the non-linear activation function. This activation function maps the weighted input sum to an certain output range. More about activation functions later.\n",
    "\n",
    "### Architecture of artificial neural networks\n",
    "Artificial neural networks have a common architecture: input layer, hidden layers and output layer.\n",
    "\n",
    "![picture](https://www.researchgate.net/profile/Facundo_Bre/publication/321259051/figure/fig1/AS:614329250496529@1523478915726/Artificial-neural-network-architecture-ANN-i-h-1-h-2-h-n-o.png)\n",
    "_source: https://www.researchgate.net/profile/Facundo_Bre/publication/321259051/figure/fig1/AS:614329250496529@1523478915726/Artificial-neural-network-architecture-ANN-i-h-1-h-2-h-n-o.png_\n",
    "\n",
    "#### Input layer\n",
    "The input layer connects the input to the ANN. These neurons commonly gets the value of the input. For example an image, the neuron could get the brightness of the pixel value of the image. For each pixel an input neuron is created. The input layer is connected with the first hidden layer. It is called fully connection because every input neuron is connected with ALL neurons in the first hidden layer. Note that neurons within the same layer do not have any connections. Example of the input layer could be an image, sound, featutes (of sound/images/...) and system state.\n",
    "\n",
    "#### Hidden layer\n",
    "The hidden layer is responsible for recognizing the patterns in the input. These patterns could be simple and complex. The total number of hidden layers depends on the complexity of the problem. Recognizing complex patterns is normally done in the last layers. When many hidden layers are used (more than one), we call the artificial neural network a deep neural network. Image recognition uses many hidden layers to extract different features of the objects in the images.\n",
    "\n",
    "#### Output layer\n",
    "The output layer shows the solution of the given input. For example\n",
    "- binairy classification. Each neuron represent a class and shows to which class the given input belongs,\n",
    "- multi-classification gives a propability for each class given the input and\n",
    "- one neuron is selected when it is a regression problem.\n",
    "\n",
    "\n"
   ]
  },
  {
   "cell_type": "markdown",
   "metadata": {},
   "source": [
    "## Activation functions\n",
    "Fun to watch: https://www.youtube.com/watch?v=s-V7gKrsels\n",
    "\n",
    "https://towardsdatascience.com/activation-functions-neural-networks-1cbd9f8d91d6\n",
    "\n",
    "### Sigmoid function\n",
    "\n",
    "$\\sigma(z)=\\frac{1}{1+e^{-z}}$\n",
    "\n",
    "<img src=\"https://upload.wikimedia.org/wikipedia/commons/thumb/8/88/Logistic-curve.svg/1200px-Logistic-curve.svg.png\" width=\"250px\"></img>\n",
    "_source: https://upload.wikimedia.org/wikipedia/commons/thumb/8/88/Logistic-curve.svg/1200px-Logistic-curve.svg.png_\n",
    "\n",
    "### Hyperbolic tangent function (tanh)\n",
    "\n",
    "$\\sigma(z)=\\frac{e^{2z}-1}{e^{2z}+1}$\n",
    "\n",
    "<img src=\"https://cnl.salk.edu/~schraudo/teach/NNcourse/figs/tanh.gif\" width=\"250px\"></img>\n",
    "_source: https://cnl.salk.edu/~schraudo/teach/NNcourse/figs/tanh.gif_\n",
    "\n",
    "\n",
    "### ReLU function - Rectified linear unit\n",
    "\n",
    "$\\sigma(z)=max(0,z)$\n",
    "<img src=\"https://www.researchgate.net/profile/Leo_Pauly/publication/319235847/figure/fig3/AS:537056121634820@1505055565670/ReLU-activation-function.png\" width=\"250px\"></img>\n",
    "_source: https://www.researchgate.net/profile/Leo_Pauly/publication/319235847/figure/fig3/AS:537056121634820@1505055565670/ReLU-activation-function.png_\n",
    "\n",
    "### Softmax function\n",
    "\n",
    "$\\sigma_i(z)=\\frac{e^{z_{i}}}{\\sum_j{e^{z_{j}}}}$"
   ]
  },
  {
   "cell_type": "markdown",
   "metadata": {},
   "source": [
    "## Artificial neural network\n",
    "As we know now globally what an artificial neural network is. The next step is to dive into the details of an ANN and the math behind it. We are going to implement a artificial neural network from scratch. But first understand how a ANN could be represented within a programming language. We will use the library numpy to do this.\n",
    "\n",
    "_source: https://medium.com/coinmonks/representing-neural-network-with-vectors-and-matrices-c6b0e64db9fb_\n"
   ]
  },
  {
   "cell_type": "code",
   "execution_count": 1,
   "metadata": {},
   "outputs": [],
   "source": [
    "import numpy as np\n",
    "import matplotlib.pyplot as plt"
   ]
  },
  {
   "cell_type": "markdown",
   "metadata": {},
   "source": [
    "In order to use the activation functions within Python, we define the method to use these activation functions:"
   ]
  },
  {
   "cell_type": "code",
   "execution_count": 2,
   "metadata": {},
   "outputs": [],
   "source": [
    "def sigmoid(X):\n",
    "    return 1/(1+np.exp(-X))\n",
    "\n",
    "def relu(X):\n",
    "    return np.maximum(0,X)\n",
    "\n",
    "def softmax(X):\n",
    "    expo = np.exp(X)\n",
    "    expo_sum = np.sum(np.exp(X))\n",
    "    return expo/expo_sum\n",
    "\n",
    "def tanh(X):\n",
    "    return ( np.exp(2*X)-1 ) / ( np.exp(2*X)+1 )\n"
   ]
  },
  {
   "cell_type": "code",
   "execution_count": 3,
   "metadata": {},
   "outputs": [
    {
     "data": {
      "image/png": "[encoded data removed]",
      "text/plain": [
       "<Figure size 432x288 with 1 Axes>"
      ]
     },
     "metadata": {
      "needs_background": "light"
     },
     "output_type": "display_data"
    },
    {
     "data": {
      "image/png": "[encoded data removed]",
      "text/plain": [
       "<Figure size 432x288 with 1 Axes>"
      ]
     },
     "metadata": {
      "needs_background": "light"
     },
     "output_type": "display_data"
    },
    {
     "data": {
      "image/png": "[encoded data removed]",
      "text/plain": [
       "<Figure size 432x288 with 1 Axes>"
      ]
     },
     "metadata": {
      "needs_background": "light"
     },
     "output_type": "display_data"
    },
    {
     "data": {
      "image/png": "[encoded data removed]",
      "text/plain": [
       "<Figure size 432x288 with 1 Axes>"
      ]
     },
     "metadata": {
      "needs_background": "light"
     },
     "output_type": "display_data"
    }
   ],
   "source": [
    "def plot_activation_functions():\n",
    "    # Make the plot\n",
    "    x = np.linspace(-5, 5, 25)\n",
    "        \n",
    "    y1 = sigmoid(x)\n",
    "    y2 = relu(x)\n",
    "    y3 = softmax(x)\n",
    "    y4 = tanh(x)\n",
    "\n",
    "    fig, ax = plt.subplots()\n",
    "    ax.plot(x, y1)\n",
    "    plt.xlabel('Input x')\n",
    "    plt.ylabel('Output y')\n",
    "    plt.title('Sigmoid activation function')\n",
    "    plt.grid(True)\n",
    "\n",
    "    fig, ax = plt.subplots()\n",
    "    ax.plot(x, y2)\n",
    "    plt.xlabel('Input x')\n",
    "    plt.ylabel('Output y')\n",
    "    plt.title('ReLU activation function')\n",
    "    plt.grid(True)\n",
    "\n",
    "    fig, ax = plt.subplots()\n",
    "    ax.plot(x, y3)\n",
    "    plt.xlabel('Input x')\n",
    "    plt.ylabel('Output y')\n",
    "    plt.title('softmax activation function')\n",
    "    plt.grid(True)\n",
    "\n",
    "    fig, ax = plt.subplots()\n",
    "    ax.plot(x, y4)\n",
    "    plt.xlabel('Input x')\n",
    "    plt.ylabel('Output y')\n",
    "    plt.title('tanh activation function')\n",
    "    plt.grid(True)\n",
    "    \n",
    "    return\n",
    "    \n",
    "plot_activation_functions()"
   ]
  },
  {
   "cell_type": "markdown",
   "metadata": {},
   "source": [
    "### Input layer\n",
    "The input layer $x_1, x_2, x_3, ..., x_n$, connect the problem to the neural network, can be represented by a vector. When the input is an image, this is most of the time represented with a matrix. In this case, the matrix with dimensions $(m,n)$ is translated to a vector with the dimension $(m*n,1)$. Such that $x$ becomes:\n",
    "\n",
    "$x = [x_1 x_2 ... x_n]$\n",
    "\n",
    "We will now create in Python the input vector. In this case we will use an input vector with three inputs."
   ]
  },
  {
   "cell_type": "code",
   "execution_count": 4,
   "metadata": {},
   "outputs": [
    {
     "name": "stdout",
     "output_type": "stream",
     "text": [
      "[[1 2 1]]\n"
     ]
    }
   ],
   "source": [
    "x = np.array([[1, 2, 1]]) # Example of three input \n",
    "\n",
    "print(x)"
   ]
  },
  {
   "cell_type": "markdown",
   "metadata": {},
   "source": [
    "### Weights of the input to hidden layer\n",
    "The input nodes are connected to the first layer of the hidden layer. It is fully connected. That means that all the nodes of the input $x$ is fully connected with the first hidden layer $h_1$. Each connection contains a weight that is multiplied with the connectedn input $x_n$. That means that when we have $n$ inputs and $m$ hidden nodes, we have $n*m$ weight: that is a lot! These weight can be represented by a matrix. The dimensions of the matrix becomes $n$ rows and $m$ collums. So the weight of the input to the hidden layer is given by $w_{xh}$. Each row contains the weight for one hidden node for all inputs.\n",
    "\n",
    "$ w_{xh} = \\begin{bmatrix}w_{11} & w_{12} & w_{13} & ... & w_{1m} \\\\ \n",
    "                          w_{21} & w_{22} & w_{23} & ... & w_{2m} \\\\\n",
    "                           & & ... & & \\\\\n",
    "                           & & ... & & \\\\\n",
    "                          w_{n1} & w_{n2} & w_{n3} & ... & w_{nm} \\end{bmatrix}$\n",
    "                          \n",
    "In this example we will take four hidden input nodes. That results into a weight matrix with the dimensions 3x4. The result into the following Python code. The weight are initialized to random values."
   ]
  },
  {
   "cell_type": "code",
   "execution_count": 6,
   "metadata": {},
   "outputs": [
    {
     "name": "stdout",
     "output_type": "stream",
     "text": [
      "[[1 2 3 4]\n",
      " [1 2 3 4]\n",
      " [1 2 3 4]]\n"
     ]
    }
   ],
   "source": [
    "w_xh = np.array([[1, 2, 3, 4],\n",
    "                 [1, 2, 3, 4],\n",
    "                 [1, 2, 3, 4]])\n",
    "\n",
    "print(w_xh)"
   ]
  },
  {
   "cell_type": "markdown",
   "metadata": {},
   "source": [
    "### Hidden layer(s)\n",
    "In this example we will use two hidden layer of 4 nodes $h$. The algorithm can be extended to multiple hidden layers. Patterns and complex patterns are recognised by the hidden layers. These hidden layers extract several features from the input and due combination, this layer is able to enable the output to perform the requested classification. The total number of layers is correlated with the complexity of the problem. At this moment, the total number of hidden layers is chosen by trial and error. \n",
    "\n",
    "The output of a node $h_i$ in the hidden layer is calculated by the input, weight and its activation function.\n",
    "\n",
    "$h_{i} = \\sigma( \\sum_{j=1}^n x_j * w_{ij} )$\n",
    "\n",
    "The hidden nodes is a vector with the dimension $(m,1)$. With $m$ the total number of hidden nodes in the hidden layer.\n",
    "\n",
    "We can now calculate the output of the nodes in the first hidden layer in Python."
   ]
  },
  {
   "cell_type": "code",
   "execution_count": 7,
   "metadata": {},
   "outputs": [
    {
     "name": "stdout",
     "output_type": "stream",
     "text": [
      "[[0.98201379 0.99966465 0.99999386 0.99999989]]\n"
     ]
    }
   ],
   "source": [
    "h_1 = sigmoid( x @ w_xh ) # matrix multiplication dot-product\n",
    "\n",
    "print(h_1)"
   ]
  },
  {
   "cell_type": "markdown",
   "metadata": {},
   "source": [
    "Next second hidden layer is connected to the first layer. Also this is a full connected layer, that means that all the nodes have a connection with all the nodes in the next layer. For each connection, a weight exist and therefore we can define the weight matrix $w_h1$. Most of the time the number of nodes within the hidden layers have the same number of nodes. In the example, the second hidden layer contain also four nodes. The matrix is defined as follows:\n",
    "\n",
    "$ w_{h1} = \\begin{bmatrix}w_{11} & w_{12} & w_{13} & ... & w_{1m} \\\\ \n",
    "                          w_{21} & w_{22} & w_{23} & ... & w_{2m} \\\\\n",
    "                           & & ... & & \\\\\n",
    "                           & & ... & & \\\\\n",
    "                          w_{m1} & w_{m2} & w_{m3} & ... & w_{mm} \\end{bmatrix}$\n",
    "                          \n",
    "In python we define the following weight matrix of the hidden nodes:"
   ]
  },
  {
   "cell_type": "code",
   "execution_count": 8,
   "metadata": {},
   "outputs": [
    {
     "name": "stdout",
     "output_type": "stream",
     "text": [
      "[[1 2 3 4]\n",
      " [1 2 3 4]\n",
      " [1 2 3 4]\n",
      " [1 2 3 4]]\n"
     ]
    }
   ],
   "source": [
    "w_h1 = np.array([[1, 2, 3, 4],\n",
    "                 [1, 2, 3, 4],\n",
    "                 [1, 2, 3, 4],\n",
    "                 [1, 2, 3, 4]])\n",
    "\n",
    "print(w_h1)"
   ]
  },
  {
   "cell_type": "markdown",
   "metadata": {},
   "source": [
    "Next, we are able to calculate the output of the nodes of the second hidden nodes $h_2$."
   ]
  },
  {
   "cell_type": "code",
   "execution_count": 9,
   "metadata": {},
   "outputs": [
    {
     "name": "stdout",
     "output_type": "stream",
     "text": [
      "[[0.9816872  0.99965213 0.99999351 0.99999988]]\n"
     ]
    }
   ],
   "source": [
    "h_2 = sigmoid( h_1 @ w_h1 )\n",
    "\n",
    "print(h_2)"
   ]
  },
  {
   "cell_type": "markdown",
   "metadata": {},
   "source": [
    "### Output layer\n",
    "In our example we will use two output neurons. This layer is also fully connected and can be represented by a weight matrix $w_hy$. "
   ]
  },
  {
   "cell_type": "code",
   "execution_count": null,
   "metadata": {},
   "outputs": [],
   "source": [
    "w_hy = np.array([[1, 2],\n",
    "                 [1, 2],\n",
    "                 [1, 2],\n",
    "                 [1, 2]])\n",
    "\n",
    "print(w_hy)"
   ]
  },
  {
   "cell_type": "markdown",
   "metadata": {},
   "source": [
    "The output of the nodes in the output layers can be calculated by:"
   ]
  },
  {
   "cell_type": "code",
   "execution_count": null,
   "metadata": {},
   "outputs": [],
   "source": [
    "y = sigmoid( h_2 @ w_hy )\n",
    "\n",
    "print(y)"
   ]
  },
  {
   "cell_type": "markdown",
   "metadata": {},
   "source": [
    "## Forward propagation\n",
    "At this moment, we have calculated the total ANN based on the input and the given weights. This is called *forward propagation*. Calculating the network from the input to the output: from left to right. At this point, the weight have been randomly chosen. Therefore, the output is also random and does not mean anything! We can define a function that performs this calculation based on the given weights and biases. It should give the same output as above! The following equation will be used:\n",
    "\n",
    "$ z1 = x * W_{xh} $\n",
    "\n",
    "$ h1 = \\sigma(z1) $\n",
    "\n",
    "$ z2 = h1 * W_{h1} $\n",
    "\n",
    "$ h2 = \\sigma(z2) $\n",
    "\n",
    "$ z3 = h1 * W_{hy} $\n",
    "\n",
    "$ \\hat{y} = \\sigma(z3) $"
   ]
  },
  {
   "cell_type": "code",
   "execution_count": null,
   "metadata": {},
   "outputs": [],
   "source": [
    "def forward_propagation():\n",
    "    z1 = x @ w_xh\n",
    "    h1 = sigmoid(z1)\n",
    "    \n",
    "    z2 = h1 @ w_h1\n",
    "    h2 = sigmoid(z2)\n",
    "    \n",
    "    z3 = h2 @ w_hy\n",
    "    y  = sigmoid(z3)\n",
    "    \n",
    "    print(y)\n",
    "\n",
    "forward_propagation()"
   ]
  },
  {
   "cell_type": "markdown",
   "metadata": {},
   "source": [
    "## Training of the neural network\n",
    "We would like to train the neural network, so the output become meaning full. Training of an ANN is finding the correct weights (and biases) of the network for a given training set. So, any ANN is always trained by giving a training set. This training set contains several (or a lot of) input examples with the belonging required output. It is really learning the network by showing examples. \n",
    "\n",
    "Okay, our small ANN with two hidden layers, we have already 52 weight to update. Which is already a lot. For example, image recognition networks could contain 100.000 of weights. That sounds a lot! It is a lot!\n",
    "\n",
    "So, we have a lot of tunable weights (biases are not taken into account at this moment). How to choose which weight we need to adapt. This is the challenge and is done by using *backpropagation* and the algorithm *gradient descent*."
   ]
  },
  {
   "cell_type": "markdown",
   "metadata": {},
   "source": [
    "## Cost function\n",
    "Before we are able to learn, we need to know how far we are off. In otherwords, what is the difference between the output and the requested output given the input. We are able to express this as a cost function. While there are different cost functions to choose from, we will take the following:\n",
    "\n",
    "$J = \\frac{1}{2}(\\hat{y} - y)^2$\n",
    "\n",
    "You have seen this more often. In this case, the cost function is the squared difference between the actual value $\\hat{y}$ and the predicted value (output neural network) $y$.\n",
    "\n",
    "## Gradient descent\n",
    "Watch for extra explanation: https://www.youtube.com/watch?v=tIeHLnjs5U8\n",
    "\n",
    "We would like to update the weight. Using the gradient descent we can determine for each weight in which direction it needs to be adapted to finally get in a local (hopefully a global) minimum. The following update rule can be defined for the weight:\n",
    "\n",
    "$ w = w - \\alpha\\frac{\\partial{J}}{\\partial{w}}$\n",
    "\n",
    "$\\alpha$ is the learning rate of the algorithm. The update function takes the derivative of the cost function.\n",
    "\n",
    "## How to calculate: $\\frac{\\partial{J}}{\\partial{w}}$\n",
    "In order to change the weights, we need to calculate the gradients for all the weight. But where do we start? Yes, the cost function gives us a good insight into the error we make. So, we start at the back and calculate for the first weights $W_{hy}$ the gradients. From there we can step back into the network, calculating the weights, until we reach the input. This process is called backward propagation. Calculating the network from the end to the beginning: from right to left.\n",
    "\n",
    "## Calculate $W_{hy}$\n",
    "\n",
    "Let's summarize the equations for the last part of the network:\n",
    "$ z3 = h1 * W_{hy} $\n",
    "\n",
    "$ y = \\sigma(z3) $\n",
    "\n",
    "We would like to know the gradient of the cost function with respect to the weight $W_{hy}$. While our cost function does not contain any $W_hy$, we need to apply the chain rule to get to the underlying functions.\n",
    "\n",
    "$\\frac{\\partial{J}}{\\partial{W_{hy}}} = \\frac{\\partial{J}}{\\partial{y}} * \\frac{\\partial{y}}{\\partial{z3}} * \\frac{\\partial{z3}}{\\partial{W_{hy}}}$\n",
    "\n",
    "Solving the individual parts as follows:\n",
    "\n",
    "$\\frac{\\partial{J}}{\\partial{y}}  = \\frac{\\partial{(\\frac{1}{2}(\\hat{y} - y)^2)}}{\\partial{y}} = (\\hat{y} - y) $\n",
    "\n",
    "$\\frac{\\partial{y}}{\\partial{z3}} = \\sigma'(z3) = \\frac{\\exp^{-z_3}}{1 + \\exp^{-z_3}} $\n",
    "\n",
    "$\\frac{\\partial{z3}}{\\partial{W_{hy}}} = h_2 $\n",
    "\n",
    "\n"
   ]
  },
  {
   "cell_type": "code",
   "execution_count": 10,
   "metadata": {},
   "outputs": [
    {
     "data": {
      "image/png": "[encoded data removed]",
      "text/plain": [
       "<Figure size 432x288 with 1 Axes>"
      ]
     },
     "metadata": {
      "needs_background": "light"
     },
     "output_type": "display_data"
    }
   ],
   "source": [
    "def d_sigmoid(X):\n",
    "    return np.exp(-X)/((1+np.exp(-X))**2)\n",
    "\n",
    "def d_relu(X):\n",
    "    XD=X*1 # copy the data!\n",
    "    XD[XD>0]  = 1\n",
    "    XD[XD<=0] = 0\n",
    "    return XD\n",
    "\n",
    "def d_tanh(X):\n",
    "    return (1 - np.tanh(X)**2)\n",
    "\n",
    "def d_plot():\n",
    "    x = np.linspace(-5, 5, 100)        \n",
    "    y1 = sigmoid(x)\n",
    "    y2 = d_sigmoid(x)\n",
    "    y3 = d_relu(x)\n",
    "    y4 = d_tanh(x)\n",
    "            \n",
    "    fig, ax = plt.subplots()\n",
    "    ax.plot(x, y1)\n",
    "    ax.plot(x, y2)\n",
    "    ax.plot(x, y3)\n",
    "    ax.plot(x, y4)\n",
    "    plt.xlabel('Input x')\n",
    "    plt.ylabel('Output y')\n",
    "    plt.title('Derivatives')\n",
    "    plt.grid(True)\n",
    "    \n",
    "d_plot()"
   ]
  },
  {
   "cell_type": "markdown",
   "metadata": {},
   "source": [
    "Training involves a training set of data. We will define a trainings set $T$ by $(\\hat{x}, \\hat{y})$. The $\\hat{x}$ is the given input and $\\hat{y}$ is the expected output. $y$ is the calculated output of the output node using forward propagation."
   ]
  },
  {
   "cell_type": "code",
   "execution_count": null,
   "metadata": {},
   "outputs": [],
   "source": [
    "# Trainings data\n",
    "x_hat = np.array([[0, 0, 0]]) # Training input\n",
    "y_hat = np.array([[1, 0]])   # Expect output\n",
    "\n",
    "# Forward propagation!\n",
    "z1 = x_hat @ w_xh\n",
    "h1 = sigmoid(z1)\n",
    "\n",
    "z2 = h1 @ w_h1\n",
    "h2 = sigmoid(z2)\n",
    "\n",
    "z3 = h2 @ w_hy\n",
    "y  = sigmoid(z3)\n",
    "\n",
    "print(\"z1 \" + str(z1))\n",
    "print(\"h1 \" + str(h1))\n",
    "print(\"z2 \" + str(z2))\n",
    "print(\"h2 \" + str(h2))\n",
    "print(\"z3 \" + str(z3))\n",
    "print(\"y  \" + str(y))\n",
    "\n",
    "# Calculate gradient of cost function J with respect to Why\n",
    "dJ_y    = (y_hat - y)\n",
    "dy_z3   = d_sigmoid(z3)\n",
    "dz3_why = h2\n",
    "\n",
    "delta3 = np.multiply(dJ_y, dy_z3)\n",
    "\n",
    "print(\"dJ_y    \" + str(dJ_y))\n",
    "print(\"dy_z3   \" + str(dy_z3))\n",
    "print(\"dz3_why \" + str(dz3_why))\n",
    "print(\"delta3 \" + str(delta3))\n",
    "\n",
    "dJ_Why = np.dot(dz3_why.transpose(), delta3)\n",
    "print(\"dJ_Why \" + str(dJ_Why))\n",
    "\n",
    "\n"
   ]
  },
  {
   "cell_type": "markdown",
   "metadata": {},
   "source": [
    "## Calculate $W_{h1}$\n",
    "\n",
    "Now, we have found the gradient of the weight matrix. So we go to the next layer and want to find the gradients of the weight matrix $W_{h1}\n",
    "\n",
    "Let's summarize the equations for the last part of the network till this layer:\n",
    "\n",
    "$ z2 = h1 * W_{h1} $\n",
    "\n",
    "$ h2 = \\sigma(z2) $\n",
    "\n",
    "$ z3 = h2 * W_{hy} $\n",
    "\n",
    "$ y = \\sigma(z3) $\n",
    "\n",
    "There is overlap with the last calculation. We would like to know the gradient of the cost function with respect to the weight $W_{h1}$. We again need to apply the chain rule to get to the underlying functions.\n",
    "\n",
    "$\\frac{\\partial{J}}{\\partial{W_{h1}}} = \\frac{\\partial{J}}{\\partial{y}} * \\frac{\\partial{y}}{\\partial{z3}} * \\frac{\\partial{z3}}{\\partial{h2}} * \\frac{\\partial{h2}}{\\partial{z2}} *  \\frac{\\partial{z2}}{\\partial{W_{h1}}}$\n",
    "\n",
    "Solving the individual parts as follows:\n",
    "\n",
    "$\\frac{\\partial{J}}{\\partial{y}}  = \\frac{\\partial{(\\frac{1}{2}(\\hat{y} - y)^2)}}{\\partial{y}} = (\\hat{y} - y) $\n",
    "\n",
    "$\\frac{\\partial{y}}{\\partial{z3}} = \\sigma'(z3) = \\frac{\\exp^{-z_3}}{1 + \\exp^{-z_3}} $\n",
    "\n",
    "$\\frac{\\partial{z3}}{\\partial{h2}} = W_{hy} $\n",
    "\n",
    "$\\frac{\\partial{h2}}{\\partial{z2}} =  \\sigma'(z_2) = \\frac{\\exp^{-z_2}}{1 + \\exp^{-z_2}} $\n",
    "\n",
    "$\\frac{\\partial{z2}}{\\partial{W_{h1}}} = h1 $\n"
   ]
  },
  {
   "cell_type": "code",
   "execution_count": null,
   "metadata": {},
   "outputs": [],
   "source": [
    "delta2 = np.dot(delta3, w_hy.transpose())*d_sigmoid(z2)\n",
    "dJ_Wh1 = np.dot(h1.transpose(), delta2)\n",
    "\n",
    "print(\"delta2 \" + str(delta2))\n",
    "print(\"dJ_Wh1 \" + str(dJ_Wh1))"
   ]
  },
  {
   "cell_type": "markdown",
   "metadata": {},
   "source": [
    "## Calculate $W_{xh}$\n",
    "\n",
    "$ z1 = x * W_{xh} $\n",
    "\n",
    "$ h1 = \\sigma(z1) $\n",
    "\n",
    "$ z2 = h1 * W_{h1} $\n",
    "\n",
    "$ h2 = \\sigma(z2) $\n",
    "\n",
    "$ z3 = h1 * W_{hy} $\n",
    "\n",
    "$ y = \\sigma(z3) $\n",
    "\n",
    "$\\frac{\\partial{J}}{\\partial{W_{h1}}} = \\frac{\\partial{J}}{\\partial{y}} * \\frac{\\partial{y}}{\\partial{z3}} * \\frac{\\partial{z3}}{\\partial{h2}} * \\frac{\\partial{h2}}{\\partial{z2}} * \\frac{\\partial{z2}}{\\partial{h1}} * \\frac{\\partial{h1}}{\\partial{z1}} * \\frac{\\partial{z1}}{\\partial{W_{xh}}}$\n",
    "\n",
    "Solving the individual parts as follows:\n",
    "\n",
    "$\\frac{\\partial{J}}{\\partial{y}}  = \\frac{\\partial{(\\frac{1}{2}(\\hat{y} - y)^2)}}{\\partial{y}} = (\\hat{y} - y) $\n",
    "\n",
    "$\\frac{\\partial{y}}{\\partial{z3}} = \\sigma'(z3) = \\frac{\\exp^{-z_3}}{1 + \\exp^{-z_3}} $\n",
    "\n",
    "$\\frac{\\partial{z3}}{\\partial{h2}} = W_{hy} $\n",
    "\n",
    "$\\frac{\\partial{h2}}{\\partial{z2}} =  \\sigma'(z_2) = \\frac{\\exp^{-z_2}}{1 + \\exp^{-z_2}} $\n",
    "\n",
    "$\\frac{\\partial{z2}}{\\partial{h1}} = W_{h1} $\n",
    "\n",
    "$\\frac{\\partial{h1}}{\\partial{z1}} = \\sigma'(z_1) = \\frac{\\exp^{-z_1}}{1 + \\exp^{-z_1}} $\n",
    "\n",
    "$\\frac{\\partial{z1}}{\\partial{W_{xh}}} = x $"
   ]
  },
  {
   "cell_type": "code",
   "execution_count": null,
   "metadata": {},
   "outputs": [],
   "source": [
    "delta1 = np.dot(delta2, w_h1.transpose())*d_sigmoid(z1)\n",
    "dJ_Wxh = np.dot(x.transpose(), delta1)\n",
    "\n",
    "print(\"delta1 \" + str(delta1))\n",
    "print(\"dJ_Wxh \" + str(dJ_Wxh))"
   ]
  },
  {
   "cell_type": "markdown",
   "metadata": {},
   "source": [
    "## Updating the weights\n",
    "\n",
    "$ w = w - \\alpha\\frac{\\partial{J}}{\\partial{w}}$"
   ]
  },
  {
   "cell_type": "code",
   "execution_count": null,
   "metadata": {},
   "outputs": [],
   "source": [
    "alpha = 1\n",
    "\n",
    "print(\"Before:\\nw_xh:\" + str(w_xh))\n",
    "print(\"w_h1:\" + str(w_h1))\n",
    "print(\"w_hy:\" + str(w_hy))\n",
    "\n",
    "w_xh = w_xh - alpha * dJ_Wxh\n",
    "w_h1 = w_h1 - alpha * dJ_Wh1\n",
    "w_hy = w_hy - alpha * dJ_Why\n",
    "\n",
    "print(\"After:\\nw_xh:\" + str(w_xh))\n",
    "print(\"w_h1:\" + str(w_h1))\n",
    "print(\"w_hy:\" + str(w_hy))\n"
   ]
  },
  {
   "cell_type": "markdown",
   "metadata": {},
   "source": [
    "Backpropagation can be defined as a function in Python. You need to do that yourself :)."
   ]
  },
  {
   "cell_type": "code",
   "execution_count": null,
   "metadata": {},
   "outputs": [],
   "source": [
    "for number in range(1000):\n",
    "    alpha = 1\n",
    "    x = np.array([[1, 0, 1]]) # Training input\n",
    "    y = np.array([[1, 0]])   # Expect output\n",
    "\n",
    "    z1 = x @ w_xh\n",
    "    h1 = sigmoid(z1)\n",
    "\n",
    "    z2 = h1 @ w_h1\n",
    "    h2 = sigmoid(z2)\n",
    "\n",
    "    z3 = h2 @ w_hy\n",
    "    y_hat  = sigmoid(z3)\n",
    "\n",
    "    # Calculate gradient of cost function J with respect to Why\n",
    "    dJ_y    = (y_hat - y)\n",
    "    dy_z3   = d_sigmoid(z3)\n",
    "    dz3_why = h2\n",
    "\n",
    "    delta3 = np.multiply(dJ_y, dy_z3)\n",
    "    dJ_Why = np.dot(dz3_why.transpose(), delta3)\n",
    "    delta2 = np.dot(delta3, w_hy.transpose())*d_sigmoid(z2)\n",
    "    dJ_Wh1 = np.dot(h1.transpose(), delta2)\n",
    "    delta1 = np.dot(delta2, w_h1.transpose())*d_sigmoid(z1)\n",
    "    dJ_Wxh = np.dot(x.transpose(), delta1)\n",
    "\n",
    "    w_xh += -alpha * dJ_Wxh\n",
    "    w_h1 += -alpha * dJ_Wh1\n",
    "    w_hy += -alpha * dJ_Why\n",
    "    \n",
    "    J = np.sum((y_hat - y)**2/2)\n",
    "    print(\"costs: \" + str(J))\n"
   ]
  },
  {
   "cell_type": "code",
   "execution_count": null,
   "metadata": {},
   "outputs": [],
   "source": [
    "x = np.array([[1, 0, 1]]) # Training input\n",
    "forward_propagation()"
   ]
  },
  {
   "cell_type": "markdown",
   "metadata": {},
   "source": [
    "## How to train your network?\n",
    "Is the output correct? Has the network learned the correct parameters? For this example .. yes. But one example is not enough. A test set contains a lot of different examples.\n",
    "\n",
    "Interessant om te bekijken:\n",
    "https://www.youtube.com/watch?v=gmjzbpSVY1A&list=PLsKOWMDqgvyZ5lvdqgfqNK1tbmRI0rLYz&index=8&t=809s"
   ]
  },
  {
   "cell_type": "markdown",
   "metadata": {},
   "source": [
    "## Assignments for today\n",
    "To get more understanding of the training and principles of back propagation and gradient descent, a couple of assignments have been defined:\n",
    "1. Calculate the gradient of the bias in all layers: $\\frac{\\partial{J}}{\\partial{b_{y}}}$ and $\\frac{\\partial{J}}{\\partial{b_{h}}}$. How should you update these biases? You can use the example given by the lecture.<br>\n",
    "    1.1 Optional: Add the biases calculation to the backward propagation method and add these vectors to the return value with the key 'dJ_dby' and 'dJ_dbh'. The last element is again an array of vectors.\n",
    "2. Implement the ReLU activation function as extra class in ann_af.py and test it.\n",
    "3. Train a neural network using Keras using the MINST dataset with https://www.tensorflow.org/datasets/keras_example.<br>\n",
    "    3.1 Discuss every line of code with your team.<br>\n",
    "    3.2 Mark the lines of code that performs or has to do with back propagation and gradient descent.<br>\n",
    "    3.3 Anser the questions: \"Why do they shuffle the dataset?\", \"Why do they use a batch size of 128?\" and \"What does 'tf.keras.optimizers.Adam(0.001)' mean?\".<br>\n",
    "4. Implement a training function to the ANN class (ann.py) that is able to calculate the weights changes based on a given batch of test data. Create a ANN with hidden layers and use the MINST dataset to train the ANN. Is it working?"
   ]
  },
  {
   "cell_type": "markdown",
   "metadata": {},
   "source": [
    "<hr />\n",
    "<h1>Assignment: MNIST dataset ANN</h1>\n",
    "\n",
    "- Why do they shuffle the dataset?\n",
    "So that the model doesn't learn by the order of the rows in the training dataset that could have a correlation.\n",
    "<br />\n",
    "\n",
    "- Why do they use a batch size of 128?\n",
    "To create unique batches at each epoch after shuffling.\n",
    "<br />\n",
    "\n",
    "- What does 'tf.keras.optimizer.Adam(0.001)' mean?\n",
    "Using the Adam optimizer with a learning rate of 0.001."
   ]
  },
  {
   "cell_type": "code",
   "execution_count": 1,
   "metadata": {},
   "outputs": [],
   "source": [
    "import tensorflow as tf\n",
    "# import tensorflow_datasets as tfds (INSTALLING THIS FAILS EVERYTIME)\n",
    "\n",
    "# That's why i've used a different example of code."
   ]
  },
  {
   "cell_type": "code",
   "execution_count": 2,
   "metadata": {},
   "outputs": [],
   "source": [
    "# Load MNIST\n",
    "digit_mnist = tf.keras.datasets.mnist\n",
    "(train_data, train_labels), (test_data, test_labels) = digit_mnist.load_data()"
   ]
  },
  {
   "cell_type": "code",
   "execution_count": null,
   "metadata": {},
   "outputs": [],
   "source": [
    "#\n",
    "# ONLY FOR ANSWERING THE QUESTIONS\n",
    "#\n",
    "\n",
    "# def normalize_img(image, label):\n",
    "#     \"\"\"Normalizes images: `uint8` -> `float32`.\"\"\"\n",
    "#     return tf.cast(image, tf.float32) / 255., label\n",
    "#\n",
    "# ds_train = ds_train.map(\n",
    "#     normalize_img, num_parallel_calls=tf.data.experimental.AUTOTUNE)\n",
    "# ds_train = ds_train.cache()\n",
    "# ds_train = ds_train.shuffle(ds_info.splits['train'].num_examples)\n",
    "# ds_train = ds_train.batch(128) #                     To create unique batches at each epoch after shuffling\n",
    "# ds_train = ds_train.prefetch(tf.data.experimental.AUTOTUNE)"
   ]
  },
  {
   "cell_type": "code",
   "execution_count": 3,
   "metadata": {},
   "outputs": [],
   "source": [
    "# Normalize pixel greyscale value from 0-255 to 0-1 float value,\n",
    "# so that the accuracy of the model increases\n",
    "train_data, test_data = train_data / 255.0, test_data / 255.0"
   ]
  },
  {
   "cell_type": "code",
   "execution_count": 4,
   "metadata": {},
   "outputs": [
    {
     "name": "stdout",
     "output_type": "stream",
     "text": [
      "Train digits shape:  (60000, 28, 28)\n",
      "Train digits:  60000\n",
      "Train labels:  60000\n",
      "\n",
      "Test digits shape:  (10000, 28, 28)\n",
      "Test digits:  10000\n",
      "Test labels:  10000\n"
     ]
    }
   ],
   "source": [
    "print('Train digits shape: ', train_data.shape)\n",
    "print('Train digits: ', len(train_data))\n",
    "print('Train labels: ', len(train_labels))\n",
    "\n",
    "print('\\nTest digits shape: ', test_data.shape)\n",
    "print('Test digits: ', len(test_data))\n",
    "print('Test labels: ', len(test_labels))"
   ]
  },
  {
   "cell_type": "code",
   "execution_count": 5,
   "metadata": {},
   "outputs": [],
   "source": [
    "# First layer 'Flatten' transforms the format of the image from a two-dimensional array (28 x 28 px) to a one-dimensional array (of 28 * 28 = 784 pixels)\n",
    "# This is to unstack rows of pixels in image and lining them up.\n",
    "\n",
    "# Second layer 'Dense' contains 128 neurons with relu activation. (hidden layers)\n",
    "# Third layer 'Dense' returns a logits array with length of 10. Each neuron contains a score that indicates the current image belongs to one of the 10 classes (1-10).\n",
    "model = tf.keras.Sequential([\n",
    "    tf.keras.layers.Flatten(input_shape=(28, 28)),\n",
    "    tf.keras.layers.Dense(128, activation=tf.nn.relu),\n",
    "    tf.keras.layers.Dense(10) # Output\n",
    "])\n",
    "\n",
    "# Compile model\n",
    "# Using the Adam optimizer with a learning rate of 0.001.\n",
    "model.compile(optimizer=tf.keras.optimizers.Adam(0.001), # Back propagation & gradient\n",
    "              loss=tf.keras.losses.SparseCategoricalCrossentropy(from_logits=True),\n",
    "              metrics=[tf.keras.metrics.SparseCategoricalAccuracy()])\n"
   ]
  },
  {
   "cell_type": "code",
   "execution_count": 6,
   "metadata": {},
   "outputs": [
    {
     "name": "stdout",
     "output_type": "stream",
     "text": [
      "Epoch 1/6\n",
      "1875/1875 [==============================] - 2s 1ms/step - loss: 0.2491 - sparse_categorical_accuracy: 0.9296\n",
      "Epoch 2/6\n",
      "1875/1875 [==============================] - 2s 970us/step - loss: 0.1105 - sparse_categorical_accuracy: 0.9677\n",
      "Epoch 3/6\n",
      "1875/1875 [==============================] - 2s 962us/step - loss: 0.0756 - sparse_categorical_accuracy: 0.9775\n",
      "Epoch 4/6\n",
      "1875/1875 [==============================] - 2s 962us/step - loss: 0.0571 - sparse_categorical_accuracy: 0.9822\n",
      "Epoch 5/6\n",
      "1875/1875 [==============================] - 2s 987us/step - loss: 0.0433 - sparse_categorical_accuracy: 0.9869\n",
      "Epoch 6/6\n",
      "1875/1875 [==============================] - 2s 991us/step - loss: 0.0345 - sparse_categorical_accuracy: 0.9894\n"
     ]
    },
    {
     "data": {
      "text/plain": [
       "<tensorflow.python.keras.callbacks.History at 0x1b3dceffdf0>"
      ]
     },
     "execution_count": 6,
     "metadata": {},
     "output_type": "execute_result"
    }
   ],
   "source": [
    "# Train model\n",
    "model.fit(train_data, train_labels, epochs=6)"
   ]
  },
  {
   "cell_type": "code",
   "execution_count": 7,
   "metadata": {},
   "outputs": [
    {
     "name": "stdout",
     "output_type": "stream",
     "text": [
      "313/313 - 0s - loss: 0.0693 - sparse_categorical_accuracy: 0.9802\n",
      "\n",
      "Test accuracy: 0.9801999926567078 \n",
      "\n"
     ]
    }
   ],
   "source": [
    "# Model loss, model accuracy\n",
    "test_loss, test_acc = model.evaluate(test_data,  test_labels, verbose=2)\n",
    "\n",
    "print('\\nTest accuracy:', test_acc, '\\n')"
   ]
  }
 ],
 "metadata": {
  "kernelspec": {
   "display_name": "Python 3",
   "language": "python",
   "name": "python3"
  },
  "language_info": {
   "codemirror_mode": {
    "name": "ipython",
    "version": 3
   },
   "file_extension": ".py",
   "mimetype": "text/x-python",
   "name": "python",
   "nbconvert_exporter": "python",
   "pygments_lexer": "ipython3",
   "version": "3.8.11"
  }
 },
 "nbformat": 4,
 "nbformat_minor": 2
}

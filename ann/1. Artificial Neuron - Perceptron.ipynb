{
 "cells": [
  {
   "cell_type": "markdown",
   "metadata": {},
   "source": [
    "# 1. Artificial Neuron - Perceptron\n",
    "<img src=\"./images/perceptron1.png\" width=\"300px\" />"
   ]
  },
  {
   "cell_type": "markdown",
   "metadata": {},
   "source": [
    "A peceptron is a single neuron. Most of the time shown by a circle with inputs and output as shown by the image above. In this example, three inputs are shown, but a perceptron could take much more inputs. Within the theory we define $n$ as the number of inputs and define the input vector ${x_1, x_2, ..., x_n}$. These inputs are multiplied by weights ${w_1, w_2, ..., w_n}$. A bias is added to this result and finally an activation function calculates the output $y$. So, a lot happens under the hood! The figure below shows the internals of the perceptron."
   ]
  },
  {
   "cell_type": "markdown",
   "metadata": {},
   "source": [
    "<img src=\"./images/perceptron2.png\" width=\"450px\" />"
   ]
  },
  {
   "cell_type": "markdown",
   "metadata": {},
   "source": [
    "The $\\sum$ symbol is the mathematical summation of the given inputs. After this summation, the result is represented by $z$. Finally, $y$ is calculated by the (non-linear) activation function with $z$ as input. The perceptron can be calculated by the following equations:\n",
    "\n",
    "$z = b + \\sum_{i=1}^n(x_iw_i)$<br>\n",
    "$y = f(z)$\n",
    "\n",
    "When using linear algebra, we could use vectors and matrices. In this example, we could define input vector $x = [x_1, x_2, ..., x_n]$ and the weight vector $w = [w_1, w_2, ..., w_n]$. These vectors can be element-wise multiplied to get the desired result. Using vectors, the equations can be rewritten in the following form:\n",
    "\n",
    "$z = b + x*w$<br>\n",
    "$y = f(z)$\n",
    "\n",
    "Using numpy, these equations can be easily implemented in Python. In this example, we will use the sigmoid activation function."
   ]
  },
  {
   "cell_type": "code",
   "execution_count": 2,
   "metadata": {},
   "outputs": [
    {
     "ename": "ModuleNotFoundError",
     "evalue": "No module named 'numpy'",
     "output_type": "error",
     "traceback": [
      "\u001b[0;31m---------------------------------------------------------------------------\u001b[0m",
      "\u001b[0;31mModuleNotFoundError\u001b[0m                       Traceback (most recent call last)",
      "\u001b[0;32m<ipython-input-2-c4dd6a63e9f6>\u001b[0m in \u001b[0;36m<module>\u001b[0;34m\u001b[0m\n\u001b[0;32m----> 1\u001b[0;31m \u001b[0;32mimport\u001b[0m \u001b[0mnumpy\u001b[0m \u001b[0;32mas\u001b[0m \u001b[0mnp\u001b[0m\u001b[0;34m\u001b[0m\u001b[0;34m\u001b[0m\u001b[0m\n\u001b[0m\u001b[1;32m      2\u001b[0m \u001b[0;34m\u001b[0m\u001b[0m\n\u001b[1;32m      3\u001b[0m \u001b[0;32mdef\u001b[0m \u001b[0msigmoid\u001b[0m\u001b[0;34m(\u001b[0m\u001b[0mx\u001b[0m\u001b[0;34m)\u001b[0m\u001b[0;34m:\u001b[0m \u001b[0;31m# Sigmoid activation function\u001b[0m\u001b[0;34m\u001b[0m\u001b[0;34m\u001b[0m\u001b[0m\n\u001b[1;32m      4\u001b[0m     \u001b[0;32mreturn\u001b[0m \u001b[0;36m1\u001b[0m\u001b[0;34m/\u001b[0m\u001b[0;34m(\u001b[0m\u001b[0;36m1\u001b[0m\u001b[0;34m+\u001b[0m\u001b[0mnp\u001b[0m\u001b[0;34m.\u001b[0m\u001b[0mexp\u001b[0m\u001b[0;34m(\u001b[0m\u001b[0;34m-\u001b[0m\u001b[0mx\u001b[0m\u001b[0;34m)\u001b[0m\u001b[0;34m)\u001b[0m\u001b[0;34m\u001b[0m\u001b[0;34m\u001b[0m\u001b[0m\n\u001b[1;32m      5\u001b[0m \u001b[0;34m\u001b[0m\u001b[0m\n",
      "\u001b[0;31mModuleNotFoundError\u001b[0m: No module named 'numpy'"
     ]
    }
   ],
   "source": [
    "import numpy as np\n",
    "\n",
    "def sigmoid(x): # Sigmoid activation function\n",
    "    return 1/(1+np.exp(-x))\n",
    "\n",
    "def perceptron(x, w, b): # calculates the output of the perceptron\n",
    "    z = x*w + b\n",
    "    y = sigmoid(z)\n",
    "    return y\n",
    "\n",
    "x = np.array([2, 2, 2]) # inputs\n",
    "w = np.array([3, 3, 3]) # weights for every input\n",
    "b = 1                   # bias\n",
    "\n",
    "y = perceptron(x, w, b)\n",
    "\n",
    "print(\"input   : \" + str(x))\n",
    "print(\"weights : \" + str(w))\n",
    "print(\"bias    : \" + str(b))\n",
    "print(\"output y: \" + str(y))"
   ]
  },
  {
   "cell_type": "code",
   "execution_count": null,
   "metadata": {},
   "outputs": [],
   "source": []
  },
  {
   "cell_type": "code",
   "execution_count": null,
   "metadata": {},
   "outputs": [],
   "source": []
  }
 ],
 "metadata": {
  "kernelspec": {
   "display_name": "Python 3",
   "language": "python",
   "name": "python3"
  },
  "language_info": {
   "codemirror_mode": {
    "name": "ipython",
    "version": 3
   },
   "file_extension": ".py",
   "mimetype": "text/x-python",
   "name": "python",
   "nbconvert_exporter": "python",
   "pygments_lexer": "ipython3",
   "version": "3.8.3"
  }
 },
 "nbformat": 4,
 "nbformat_minor": 4
}

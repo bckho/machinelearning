{
 "cells": [
  {
   "cell_type": "markdown",
   "metadata": {},
   "source": [
    "# 2. CNN Architectures\n",
    "_Author: Maurice Snoeren_\n",
    "\n",
    "In the mean time, a lot of CNN architectures have been proposed. Within this notebook we are going to study the different CNN architectures. Note that real CNN architectures are really large networks. Training takes a lot of time. You really need a GPU to do this. In fact, you really need a lot of GPU to train these. Make sure you use the CoLab servers to get the appropiate GPU power to train your objects.\n",
    "\n",
    "## A first note\n",
    "When you want to perform object detection. The best approach is to select an existing CNN architecture that is created to do a similar thing as your problem. Try to train this \"existing\" network to train your objects. It is even possible to only train the neural network with a fixed convolutional neural network."
   ]
  },
  {
   "cell_type": "markdown",
   "metadata": {},
   "source": [
    "## An overview of CNNs\n",
    "There are two types of CNN architectures. CNN architectures that recognizes an object within a picture and CNN architectures that recognizes multi objects in a picture and there bounding box. The last one is mostly used for self driving cars for example. \n",
    "\n",
    "When we talk about CNN object classifications, the following classic network architectures can be found:\n",
    "- LeNet-5\n",
    "- AlexNet\n",
    "- VGG 16\n",
    "\n",
    "More modern network architectures that can be found:\n",
    "- Inception\n",
    "- ResNet\n",
    "- ResNeXt\n",
    "- DenseNet\n",
    "\n",
    "When we look at multi-object detection we can find two types of networks: Two stage and one stage. The followwing two stage network architectures can be found:\n",
    "- R-CNN\n",
    "- Fast R-CNN\n",
    "- Faster R-CNN\n",
    "- Masked R-CNN\n",
    "\n",
    "The following one stage network architectures can be found:\n",
    "- SSD\n",
    "- RetinaNet\n",
    "- YOLO\n",
    "- YOLOv2 (YOLO9000) and YOLOv3\n",
    "- YOLOv4\n",
    "- YOLOv5\n",
    "\n",
    "The are also CNN network architectures that are specialized in object tracking.\n",
    "- ROLO (Recurrent YOLO - YOLO/LSTM)\n",
    "- SiamMask (single object tracking)\n",
    "- DeepSORT\n",
    "- TrackR-CNN\n",
    "- Tracktor++\n",
    "- JDE\n",
    "\n",
    "Studying these architectures give a lot of insight of good architectures for object detection. When having a problem, it is also possible to find a network that fits your needs. Within this notebook not all the above mentioned will be shown."
   ]
  },
  {
   "cell_type": "markdown",
   "metadata": {},
   "source": [
    "## R-CNN (Regional Convolutional Neural Network)\n",
    "R-CNN is an improvement of the old algorithms like SIFT and started in 2014. The picture below shows the architecture of R-CNN. The first stage is to extract region proposals and the second stage is to classify these proposals. \n",
    "<img src=\"architectures/R-CNN.png\"/>\n",
    "When you would like to detect multiple objects, you need to find objects in the image and try to classify these objects with a neural network. R-CNN does this by propose around 2.000 regions where objects could exists and classify all these regions using the fully connected neural network. The algorithm **selective search** is used to provide these regions to the network. It scans the images with windows with various scales and tries to look for adjacent pixels that shares colors and textures."
   ]
  },
  {
   "cell_type": "markdown",
   "metadata": {},
   "source": [
    "## Fast R-CNN\n",
    "The authors of R-CNN improved the algorithm and called it Fast R-CNN. The picture below shows the architecture.\n",
    "<img src=\"architectures/Fast R-CNN.png\"/>\n",
    "The main advantage is the the convolutional layer is not used for each regions. Instead, the convolutional layer is extracting the features of the image one time. These features are than used for the detection with a fully connected network for each region. In this case, ROI means regions of interest which is extracted from the feature map. This is done by an algorithm."
   ]
  },
  {
   "cell_type": "markdown",
   "metadata": {},
   "source": [
    "## Faster R-CNN\n",
    "While Faster R-CNN is still slow, it is slightly faster as Fast R-CNN. The algorithm to find the regions has been replaced by a region proposal network that is also trained to find the region proposols. The architecture is shown below.\n",
    "<img src=\"architectures/Faster R-CNN.png\"/>"
   ]
  },
  {
   "cell_type": "code",
   "execution_count": null,
   "metadata": {},
   "outputs": [],
   "source": []
  },
  {
   "cell_type": "markdown",
   "metadata": {},
   "source": [
    "## Sources\n",
    "- https://arxiv.org/ftp/arxiv/papers/1901/1901.06032.pdf\n",
    "- https://www.jeremyjordan.me/convnet-architectures/\n",
    "- https://journalofbigdata.springeropen.com/articles/10.1186/s40537-021-00444-8\n",
    "- https://machinelearningmastery.com/object-recognition-with-deep-learning\n",
    "- https://robocademy.com/2020/05/01/a-gentle-introduction-to-yolo-v4-for-object-detection-in-ubuntu-20-04/#What_are_the_different_versions_of_YOLO\n"
   ]
  },
  {
   "cell_type": "code",
   "execution_count": null,
   "metadata": {},
   "outputs": [],
   "source": []
  }
 ],
 "metadata": {
  "kernelspec": {
   "display_name": "Python 3",
   "language": "python",
   "name": "python3"
  },
  "language_info": {
   "codemirror_mode": {
    "name": "ipython",
    "version": 3
   },
   "file_extension": ".py",
   "mimetype": "text/x-python",
   "name": "python",
   "nbconvert_exporter": "python",
   "pygments_lexer": "ipython3",
   "version": "3.8.5"
  }
 },
 "nbformat": 4,
 "nbformat_minor": 4
}

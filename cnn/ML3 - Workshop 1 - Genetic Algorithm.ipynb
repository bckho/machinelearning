{
 "cells": [
  {
   "cell_type": "markdown",
   "metadata": {},
   "source": [
    "# ML3 - Workshop 1 - Genetic Algorithm\n",
    "_Author: Maurice Snoeren_"
   ]
  },
  {
   "cell_type": "markdown",
   "metadata": {},
   "source": [
    "Within this workshop, genetic algorithm will be discussed. Genetic algorithm (GA) is inspired by the process of natural selection. It belongs to the evolutionary algorithms. Genetic algorithms are used to generate solutions to optimization and search problems. A genetic algorithm utilizes mutation, crossover and selection. Genetic algorithms are used in different disciplines."
   ]
  },
  {
   "cell_type": "markdown",
   "metadata": {},
   "source": [
    "## Artificial Neural Networks (ANN)\n",
    "How are genetic algorithms related with an artificial neural network? Training is done by using backpropagation together with gradient descent. You already did this with your dataset and neural network. However, how did you decide how many hidden layers should have been used? Or how many nodes within the hidden layers are required? Yes ... you just tried changing some hyperparameters until the network trained well enough to find the (generalized) solution. Off course, you have been looking to the cost function and the accuracy values to change these parameters. \n",
    "\n",
    "Genetic algorithms could be used to find these hyperparameters as well. You could look to an artificial neural network configuration as an entity. Creating several entities, a population, with different kind of hyperparameter configuration. After training all these ANNs, you select the best ten networks. Create a new population by mutation and crossover the hyperparameters. Training these new population of ANNs again and repeat the process until you have found the best ANN and see how the hyperparameters have been chosen. These hyperparameters can be seen as chromosomes.\n",
    "\n",
    "This is just an idea how to use genetic algorithms and ANNs. Solving the difficulty of the selection of the hyperparameters of the ANN. During this workshop, you will take you dataset and ANN of ML2 and try to implement genetic algorithms to find the hyperparameters of the network. Take as the hyperparameters the total hidden layers and total nodes in the hidden layer."
   ]
  },
  {
   "cell_type": "markdown",
   "metadata": {},
   "source": [
    "## Genetic algorithm\n",
    "The following youtube videos shall by watched for selfstudy:\n",
    "- https://www.youtube.com/watch?v=cxweR4i0ejA\n",
    "- https://www.youtube.com/watch?v=uQj5UNhCPuo\n",
    "- https://www.youtube.com/watch?v=zIkBYwdkuTk\n",
    "\n"
   ]
  },
  {
   "cell_type": "markdown",
   "metadata": {},
   "source": [
    "## Assigment\n",
    "1. Define the genome of your ANN. These will be combined and mutated by the GA. Example: Total hidden layers, number of nodes in the hidden layer and activation function of the hidden layer. You could also take the weights into account.\n",
    "2. Create the fitness function to determine how good a solution is. This is in fact training the ANN with the dataset.\n",
    "3. Create a function that creates a new population using the best selected solutions by crossover and mutation. Note that it is a good practice to add the parents to the population as well. And maybe new random one's too."
   ]
  },
  {
   "cell_type": "markdown",
   "metadata": {},
   "source": []
  }
 ],
 "metadata": {
  "kernelspec": {
   "display_name": "Python 3",
   "language": "python",
   "name": "python3"
  },
  "language_info": {
   "codemirror_mode": {
    "name": "ipython",
    "version": 3
   },
   "file_extension": ".py",
   "mimetype": "text/x-python",
   "name": "python",
   "nbconvert_exporter": "python",
   "pygments_lexer": "ipython3",
   "version": "3.7.3"
  }
 },
 "nbformat": 4,
 "nbformat_minor": 4
}
